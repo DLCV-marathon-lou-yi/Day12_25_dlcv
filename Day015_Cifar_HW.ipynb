{
 "cells": [
  {
   "cell_type": "markdown",
   "metadata": {},
   "source": [
    "# 多練習其他參數版本，觀察其效率變化\n",
    "## 『本次練習內容』\n",
    "#### 運用這幾天所學觀念搭建一個CNN分類器"
   ]
  },
  {
   "cell_type": "markdown",
   "metadata": {},
   "source": [
    "## 『本次練習目的』\n",
    "  #### 熟悉CNN分類器搭建步驟與原理\n",
    "  #### 學員們可以嘗試不同搭法，如使用不同的Maxpooling層，用GlobalAveragePooling取代Flatten等等"
   ]
  },
  {
   "cell_type": "code",
   "execution_count": 1,
   "metadata": {},
   "outputs": [],
   "source": [
    "from tensorflow.keras.models import Sequential\n",
    "from tensorflow.keras.layers import Convolution2D\n",
    "from tensorflow.keras.layers import MaxPooling2D\n",
    "from tensorflow.keras.layers import Flatten\n",
    "from tensorflow.keras.layers import Dense\n",
    "from tensorflow.keras.layers import Dropout\n",
    "from tensorflow.keras.layers import BatchNormalization\n",
    "from tensorflow.keras.datasets import cifar10\n",
    "import numpy as np\n",
    "import tensorflow as tf\n",
    "from sklearn.preprocessing import OneHotEncoder\n"
   ]
  },
  {
   "cell_type": "code",
   "execution_count": 2,
   "metadata": {},
   "outputs": [
    {
     "name": "stdout",
     "output_type": "stream",
     "text": [
      "(50000, 32, 32, 3)\n"
     ]
    }
   ],
   "source": [
    "(x_train, y_train), (x_test, y_test) = cifar10.load_data()\n",
    "\n",
    "print(x_train.shape) #(50000, 32, 32, 3)->(Batch Size , Height , Width , Channels) \n",
    "\n",
    "## Normalize Data\n",
    "def normalize(X_train,X_test):\n",
    "        mean = np.mean(X_train,axis=(0,1,2,3)) #計算(全局)平均值\n",
    "        std = np.std(X_train, axis=(0, 1, 2, 3)) #計算(全局)標準差\n",
    "        X_train = (X_train-mean)/(std+1e-7)\n",
    "        X_test = (X_test-mean)/(std+1e-7) #1e-7用於避免除以0\n",
    "        return X_train, X_test,mean,std\n",
    "    \n",
    "    \n",
    "## Normalize Training and Testset    \n",
    "x_train, x_test,mean_train,std_train = normalize(x_train, x_test) "
   ]
  },
  {
   "cell_type": "code",
   "execution_count": 3,
   "metadata": {},
   "outputs": [
    {
     "name": "stderr",
     "output_type": "stream",
     "text": [
      "D:\\Users\\u9593\\Anaconda3\\envs\\tensorflow-gpu\\lib\\site-packages\\sklearn\\preprocessing\\_encoders.py:363: FutureWarning: The handling of integer data will change in version 0.22. Currently, the categories are determined based on the range [0, max(values)], while in the future they will be determined based on the unique values.\n",
      "If you want the future behaviour and silence this warning, you can specify \"categories='auto'\".\n",
      "In case you used a LabelEncoder before this OneHotEncoder to convert the categories to integers, then you can now use the OneHotEncoder directly.\n",
      "  warnings.warn(msg, FutureWarning)\n"
     ]
    }
   ],
   "source": [
    "#資料預處理\n",
    "## OneHot Label 由(None, 1)-(None, 10)\n",
    "## ex. label=2,變成[0,0,1,0,0,0,0,0,0,0]\n",
    "one_hot=OneHotEncoder()\n",
    "y_train=one_hot.fit_transform(y_train).toarray()\n",
    "y_test=one_hot.transform(y_test).toarray()"
   ]
  },
  {
   "cell_type": "code",
   "execution_count": 9,
   "metadata": {},
   "outputs": [
    {
     "name": "stdout",
     "output_type": "stream",
     "text": [
      "Epoch 1/100\n",
      "50000/50000 [==============================] - 31s 614us/step - loss: 1.6747 - acc: 0.4101\n",
      "Epoch 2/100\n",
      "50000/50000 [==============================] - 9s 184us/step - loss: 1.2723 - acc: 0.5492\n",
      "Epoch 3/100\n",
      "50000/50000 [==============================] - 9s 184us/step - loss: 1.1149 - acc: 0.6114\n",
      "Epoch 4/100\n",
      "50000/50000 [==============================] - 9s 183us/step - loss: 1.0393 - acc: 0.6392\n",
      "Epoch 5/100\n",
      "50000/50000 [==============================] - 9s 182us/step - loss: 0.9718 - acc: 0.6619\n",
      "Epoch 6/100\n",
      "50000/50000 [==============================] - 10s 202us/step - loss: 0.9176 - acc: 0.6815\n",
      "Epoch 7/100\n",
      "50000/50000 [==============================] - 9s 188us/step - loss: 0.8723 - acc: 0.6949\n",
      "Epoch 8/100\n",
      "50000/50000 [==============================] - 9s 189us/step - loss: 0.8227 - acc: 0.7131\n",
      "Epoch 9/100\n",
      "50000/50000 [==============================] - 10s 192us/step - loss: 0.7750 - acc: 0.7307\n",
      "Epoch 10/100\n",
      "50000/50000 [==============================] - 9s 186us/step - loss: 0.7180 - acc: 0.7519\n",
      "Epoch 11/100\n",
      "50000/50000 [==============================] - 9s 188us/step - loss: 0.6729 - acc: 0.7668\n",
      "Epoch 12/100\n",
      "50000/50000 [==============================] - 9s 183us/step - loss: 0.6256 - acc: 0.7837\n",
      "Epoch 13/100\n",
      "50000/50000 [==============================] - 9s 181us/step - loss: 0.5718 - acc: 0.8025\n",
      "Epoch 14/100\n",
      "50000/50000 [==============================] - 9s 180us/step - loss: 0.5234 - acc: 0.8208\n",
      "Epoch 15/100\n",
      "50000/50000 [==============================] - 9s 180us/step - loss: 0.4784 - acc: 0.8355\n",
      "Epoch 16/100\n",
      "50000/50000 [==============================] - 9s 181us/step - loss: 0.4397 - acc: 0.8473\n",
      "Epoch 17/100\n",
      "50000/50000 [==============================] - 9s 186us/step - loss: 0.4032 - acc: 0.8600\n",
      "Epoch 18/100\n",
      "50000/50000 [==============================] - 9s 187us/step - loss: 0.3707 - acc: 0.8717\n",
      "Epoch 19/100\n",
      "50000/50000 [==============================] - 9s 187us/step - loss: 0.3396 - acc: 0.8825\n",
      "Epoch 20/100\n",
      "50000/50000 [==============================] - 9s 183us/step - loss: 0.3164 - acc: 0.8905\n",
      "Epoch 21/100\n",
      "50000/50000 [==============================] - 9s 187us/step - loss: 0.2862 - acc: 0.9024\n",
      "Epoch 22/100\n",
      "50000/50000 [==============================] - 9s 183us/step - loss: 0.2719 - acc: 0.9073\n",
      "Epoch 23/100\n",
      "50000/50000 [==============================] - 9s 183us/step - loss: 0.2488 - acc: 0.9140\n",
      "Epoch 24/100\n",
      "50000/50000 [==============================] - 9s 187us/step - loss: 0.2345 - acc: 0.9206\n",
      "Epoch 25/100\n",
      "50000/50000 [==============================] - 9s 186us/step - loss: 0.2189 - acc: 0.9256\n",
      "Epoch 26/100\n",
      "50000/50000 [==============================] - 9s 184us/step - loss: 0.1988 - acc: 0.9324\n",
      "Epoch 27/100\n",
      "50000/50000 [==============================] - 9s 188us/step - loss: 0.2020 - acc: 0.9319\n",
      "Epoch 28/100\n",
      "50000/50000 [==============================] - 9s 180us/step - loss: 0.1819 - acc: 0.9389\n",
      "Epoch 29/100\n",
      "50000/50000 [==============================] - 9s 181us/step - loss: 0.1683 - acc: 0.9437\n",
      "Epoch 30/100\n",
      "50000/50000 [==============================] - 9s 185us/step - loss: 0.1717 - acc: 0.9418\n",
      "Epoch 31/100\n",
      "50000/50000 [==============================] - 9s 182us/step - loss: 0.1555 - acc: 0.9477\n",
      "Epoch 32/100\n",
      "50000/50000 [==============================] - 9s 183us/step - loss: 0.1517 - acc: 0.9484\n",
      "Epoch 33/100\n",
      "50000/50000 [==============================] - 9s 184us/step - loss: 0.1411 - acc: 0.9520\n",
      "Epoch 34/100\n",
      "50000/50000 [==============================] - 9s 186us/step - loss: 0.1394 - acc: 0.9516\n",
      "Epoch 35/100\n",
      "50000/50000 [==============================] - 9s 186us/step - loss: 0.1215 - acc: 0.9595\n",
      "Epoch 36/100\n",
      "50000/50000 [==============================] - 9s 185us/step - loss: 0.1435 - acc: 0.9508\n",
      "Epoch 37/100\n",
      "50000/50000 [==============================] - 9s 186us/step - loss: 0.1211 - acc: 0.9593\n",
      "Epoch 38/100\n",
      "50000/50000 [==============================] - 9s 185us/step - loss: 0.1206 - acc: 0.9588\n",
      "Epoch 39/100\n",
      "50000/50000 [==============================] - 9s 187us/step - loss: 0.1099 - acc: 0.9631\n",
      "Epoch 40/100\n",
      "50000/50000 [==============================] - 9s 184us/step - loss: 0.1008 - acc: 0.9666\n",
      "Epoch 41/100\n",
      "50000/50000 [==============================] - 9s 185us/step - loss: 0.1062 - acc: 0.9640\n",
      "Epoch 42/100\n",
      "50000/50000 [==============================] - 9s 187us/step - loss: 0.1108 - acc: 0.9621\n",
      "Epoch 43/100\n",
      "50000/50000 [==============================] - 9s 186us/step - loss: 0.0990 - acc: 0.9668\n",
      "Epoch 44/100\n",
      "50000/50000 [==============================] - 9s 183us/step - loss: 0.0994 - acc: 0.9667\n",
      "Epoch 45/100\n",
      "50000/50000 [==============================] - 9s 185us/step - loss: 0.0945 - acc: 0.9683\n",
      "Epoch 46/100\n",
      "50000/50000 [==============================] - 9s 185us/step - loss: 0.0952 - acc: 0.9682\n",
      "Epoch 47/100\n",
      "50000/50000 [==============================] - 9s 181us/step - loss: 0.0930 - acc: 0.9685\n",
      "Epoch 48/100\n",
      "50000/50000 [==============================] - 9s 181us/step - loss: 0.0889 - acc: 0.9701\n",
      "Epoch 49/100\n",
      "50000/50000 [==============================] - 9s 181us/step - loss: 0.0868 - acc: 0.9714\n",
      "Epoch 50/100\n",
      "50000/50000 [==============================] - 9s 183us/step - loss: 0.0850 - acc: 0.9701\n",
      "Epoch 51/100\n",
      "50000/50000 [==============================] - 9s 181us/step - loss: 0.0760 - acc: 0.9754\n",
      "Epoch 52/100\n",
      "50000/50000 [==============================] - 9s 180us/step - loss: 0.0793 - acc: 0.9739\n",
      "Epoch 53/100\n",
      "50000/50000 [==============================] - 9s 185us/step - loss: 0.0822 - acc: 0.9726\n",
      "Epoch 54/100\n",
      "50000/50000 [==============================] - 9s 180us/step - loss: 0.0794 - acc: 0.9739\n",
      "Epoch 55/100\n",
      "50000/50000 [==============================] - 10s 201us/step - loss: 0.0700 - acc: 0.9766\n",
      "Epoch 56/100\n",
      "50000/50000 [==============================] - 9s 183us/step - loss: 0.0896 - acc: 0.9707\n",
      "Epoch 57/100\n",
      "50000/50000 [==============================] - 9s 183us/step - loss: 0.0731 - acc: 0.9759\n",
      "Epoch 58/100\n",
      "50000/50000 [==============================] - 9s 184us/step - loss: 0.0626 - acc: 0.9792\n",
      "Epoch 59/100\n",
      "50000/50000 [==============================] - 9s 181us/step - loss: 0.0694 - acc: 0.9766\n",
      "Epoch 60/100\n",
      "50000/50000 [==============================] - 9s 184us/step - loss: 0.0687 - acc: 0.9766\n",
      "Epoch 61/100\n",
      "50000/50000 [==============================] - 9s 184us/step - loss: 0.0749 - acc: 0.9746\n",
      "Epoch 62/100\n",
      "50000/50000 [==============================] - 9s 187us/step - loss: 0.0695 - acc: 0.9779\n",
      "Epoch 63/100\n",
      "50000/50000 [==============================] - 9s 186us/step - loss: 0.0561 - acc: 0.9814\n",
      "Epoch 64/100\n",
      "50000/50000 [==============================] - 9s 188us/step - loss: 0.0593 - acc: 0.9799\n",
      "Epoch 65/100\n",
      "50000/50000 [==============================] - 9s 180us/step - loss: 0.0772 - acc: 0.9742\n",
      "Epoch 66/100\n",
      "50000/50000 [==============================] - 9s 180us/step - loss: 0.0570 - acc: 0.9808\n",
      "Epoch 67/100\n",
      "50000/50000 [==============================] - 9s 181us/step - loss: 0.0552 - acc: 0.9815\n",
      "Epoch 68/100\n",
      "50000/50000 [==============================] - 9s 180us/step - loss: 0.0534 - acc: 0.9820\n",
      "Epoch 69/100\n",
      "50000/50000 [==============================] - 10s 196us/step - loss: 0.0630 - acc: 0.9785\n",
      "Epoch 70/100\n",
      "50000/50000 [==============================] - 9s 185us/step - loss: 0.0593 - acc: 0.9814\n",
      "Epoch 71/100\n",
      "50000/50000 [==============================] - 10s 195us/step - loss: 0.0628 - acc: 0.9793\n",
      "Epoch 72/100\n",
      "50000/50000 [==============================] - 9s 186us/step - loss: 0.0560 - acc: 0.9821\n",
      "Epoch 73/100\n",
      "50000/50000 [==============================] - 9s 181us/step - loss: 0.0504 - acc: 0.9826\n",
      "Epoch 74/100\n",
      "50000/50000 [==============================] - 10s 192us/step - loss: 0.0503 - acc: 0.9836\n",
      "Epoch 75/100\n",
      "50000/50000 [==============================] - 9s 184us/step - loss: 0.0494 - acc: 0.9841\n",
      "Epoch 76/100\n",
      "50000/50000 [==============================] - 9s 189us/step - loss: 0.0723 - acc: 0.9765\n",
      "Epoch 77/100\n",
      "50000/50000 [==============================] - 9s 184us/step - loss: 0.0451 - acc: 0.9859\n",
      "Epoch 78/100\n",
      "50000/50000 [==============================] - 9s 187us/step - loss: 0.0479 - acc: 0.9845\n",
      "Epoch 79/100\n",
      "50000/50000 [==============================] - 9s 182us/step - loss: 0.0540 - acc: 0.9823\n",
      "Epoch 80/100\n"
     ]
    },
    {
     "name": "stdout",
     "output_type": "stream",
     "text": [
      "50000/50000 [==============================] - 9s 184us/step - loss: 0.0448 - acc: 0.9852\n",
      "Epoch 81/100\n",
      "50000/50000 [==============================] - 9s 188us/step - loss: 0.0546 - acc: 0.9823\n",
      "Epoch 82/100\n",
      "50000/50000 [==============================] - 9s 188us/step - loss: 0.0511 - acc: 0.9831\n",
      "Epoch 83/100\n",
      "50000/50000 [==============================] - 9s 188us/step - loss: 0.0510 - acc: 0.9830\n",
      "Epoch 84/100\n",
      "50000/50000 [==============================] - 9s 184us/step - loss: 0.0468 - acc: 0.9851\n",
      "Epoch 85/100\n",
      "50000/50000 [==============================] - 9s 181us/step - loss: 0.0480 - acc: 0.9846\n",
      "Epoch 86/100\n",
      "50000/50000 [==============================] - 9s 181us/step - loss: 0.0440 - acc: 0.9851\n",
      "Epoch 87/100\n",
      "50000/50000 [==============================] - 9s 182us/step - loss: 0.0449 - acc: 0.9854\n",
      "Epoch 88/100\n",
      "50000/50000 [==============================] - 9s 183us/step - loss: 0.0514 - acc: 0.9837\n",
      "Epoch 89/100\n",
      "50000/50000 [==============================] - 9s 183us/step - loss: 0.0496 - acc: 0.9842\n",
      "Epoch 90/100\n",
      "50000/50000 [==============================] - 9s 185us/step - loss: 0.0389 - acc: 0.9871\n",
      "Epoch 91/100\n",
      "50000/50000 [==============================] - 9s 186us/step - loss: 0.0414 - acc: 0.9865\n",
      "Epoch 92/100\n",
      "50000/50000 [==============================] - 9s 181us/step - loss: 0.0485 - acc: 0.9851\n",
      "Epoch 93/100\n",
      "50000/50000 [==============================] - 9s 179us/step - loss: 0.0391 - acc: 0.9871\n",
      "Epoch 94/100\n",
      "50000/50000 [==============================] - 9s 179us/step - loss: 0.0402 - acc: 0.9864\n",
      "Epoch 95/100\n",
      "50000/50000 [==============================] - 9s 179us/step - loss: 0.0384 - acc: 0.9876\n",
      "Epoch 96/100\n",
      "50000/50000 [==============================] - 9s 180us/step - loss: 0.0476 - acc: 0.9846\n",
      "Epoch 97/100\n",
      "50000/50000 [==============================] - 9s 181us/step - loss: 0.0419 - acc: 0.9860\n",
      "Epoch 98/100\n",
      "50000/50000 [==============================] - 9s 180us/step - loss: 0.0289 - acc: 0.9906\n",
      "Epoch 99/100\n",
      "50000/50000 [==============================] - 9s 180us/step - loss: 0.0439 - acc: 0.9851\n",
      "Epoch 100/100\n",
      "50000/50000 [==============================] - 9s 179us/step - loss: 0.0357 - acc: 0.9881\n"
     ]
    },
    {
     "data": {
      "text/plain": [
       "<tensorflow.python.keras.callbacks.History at 0x1b18d84a898>"
      ]
     },
     "execution_count": 9,
     "metadata": {},
     "output_type": "execute_result"
    }
   ],
   "source": [
    "'''自己決定MaxPooling2D放在哪裡'''\n",
    "#maxpool 採一般CNN放法\n",
    "classifier=Sequential()\n",
    "input_shape=(32,32,3)\n",
    "#卷積組合\n",
    "classifier.add(Convolution2D(filters=32,kernel_size=(3,3),padding='same',input_shape=input_shape))#32,3,3,input_shape=(32,32,3),activation='relu''\n",
    "classifier.add(BatchNormalization(axis=1,momentum=0.99,epsilon=0.001,beta_initializer='zeros', gamma_initializer='ones'))\n",
    "\n",
    "classifier.add(MaxPooling2D(pool_size=(2,2)))\n",
    "\n",
    "#卷積組合\n",
    "classifier.add(Convolution2D(filters=64,kernel_size=(3,3),padding='same'))\n",
    "classifier.add(BatchNormalization(axis=1,momentum=0.99,epsilon=0.001,beta_initializer='zeros', gamma_initializer='ones'))\n",
    "\n",
    "#flatten\n",
    "classifier.add(Flatten())\n",
    "\n",
    "#FC\n",
    "classifier.add(Dense(units=100,activation='relu')) #output_dim=100,activation=relu\n",
    "\n",
    "#輸出->過Softmax轉換成機率值\n",
    "classifier.add(Dense(units=10,activation='softmax'))\n",
    "\n",
    "#超過兩個就要選categorical_crossentrophy(多分类损失函数)\n",
    "classifier.compile(optimizer = 'adam', loss = 'categorical_crossentropy', metrics = ['accuracy'])\n",
    "classifier.fit(x_train,y_train,batch_size=100,epochs=100)"
   ]
  },
  {
   "cell_type": "markdown",
   "metadata": {},
   "source": [
    "## 預測新圖片，輸入影像前處理要與訓練時相同\n",
    "#### ((X-mean)/(std+1e-7) ):這裡的mean跟std是訓練集的\n",
    "## 維度如下方示範"
   ]
  },
  {
   "cell_type": "code",
   "execution_count": 12,
   "metadata": {},
   "outputs": [
    {
     "data": {
      "text/plain": [
       "array([[6.4942014e-01, 1.2084073e-09, 1.1689144e-01, 2.3368759e-01,\n",
       "        3.9883300e-08, 3.3465529e-08, 9.0245744e-10, 2.1450603e-08,\n",
       "        5.2482659e-07, 1.7796738e-07]], dtype=float32)"
      ]
     },
     "execution_count": 12,
     "metadata": {},
     "output_type": "execute_result"
    }
   ],
   "source": [
    "input_example=(np.zeros(shape=(1,32,32,3))-mean_train)/(std_train+1e-7) \n",
    "classifier.predict(input_example)"
   ]
  },
  {
   "cell_type": "code",
   "execution_count": 15,
   "metadata": {},
   "outputs": [
    {
     "data": {
      "text/plain": [
       "120.70756512369792"
      ]
     },
     "execution_count": 15,
     "metadata": {},
     "output_type": "execute_result"
    }
   ],
   "source": [
    "mean_train"
   ]
  },
  {
   "cell_type": "markdown",
   "metadata": {},
   "source": [
    "# 參考答案:"
   ]
  },
  {
   "cell_type": "code",
   "execution_count": null,
   "metadata": {},
   "outputs": [],
   "source": []
  }
 ],
 "metadata": {
  "kernelspec": {
   "display_name": "Python 3",
   "language": "python",
   "name": "python3"
  },
  "language_info": {
   "codemirror_mode": {
    "name": "ipython",
    "version": 3
   },
   "file_extension": ".py",
   "mimetype": "text/x-python",
   "name": "python",
   "nbconvert_exporter": "python",
   "pygments_lexer": "ipython3",
   "version": "3.5.6"
  }
 },
 "nbformat": 4,
 "nbformat_minor": 2
}
